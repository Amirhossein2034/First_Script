{
  "cells": [
    {
      "cell_type": "markdown",
      "metadata": {
        "id": "view-in-github",
        "colab_type": "text"
      },
      "source": [
        "<a href=\"https://colab.research.google.com/github/Amirhossein2034/First_Script/blob/main/HW1_ML%26Apps_Final.ipynb\" target=\"_parent\"><img src=\"https://colab.research.google.com/assets/colab-badge.svg\" alt=\"Open In Colab\"/></a>"
      ]
    },
    {
      "cell_type": "markdown",
      "id": "ed28b82b",
      "metadata": {
        "id": "ed28b82b"
      },
      "source": [
        "# **Homework 1: Machine Learning & Applications**  \n",
        "##This notebook demonstrates a Python data analysis project using:\n",
        "- Object-Oriented Programming (OOP)\n",
        "- Custom decorators\n",
        "- Synthetic data generation\n",
        "- Data analysis and visualization with \"pandas\", \"numpy\", and \"matplotlib\"\n",
        "\n",
        "##Two main classes are implemented:\n",
        "1. \"DataConfig\" - to generate configurable synthetic datasets.\n",
        "2. \"AdvancedDataAnalyzer\" - to perform statistical analysis, filtering, visualization, and saving results.\n"
      ]
    },
    {
      "cell_type": "code",
      "execution_count": 2,
      "id": "12fd90cf",
      "metadata": {
        "colab": {
          "base_uri": "https://localhost:8080/"
        },
        "id": "12fd90cf",
        "outputId": "7dd74eda-ef31-4a63-b82c-f34104f0b906"
      },
      "outputs": [
        {
          "output_type": "stream",
          "name": "stdout",
          "text": [
            "Requirement already satisfied: param in /usr/local/lib/python3.11/dist-packages (2.2.0)\n"
          ]
        }
      ],
      "source": [
        "!pip install param\n",
        "import numpy as np\n",
        "import pandas as pd\n",
        "import matplotlib.pyplot as plt\n",
        "import time\n",
        "import param\n",
        "from typing import Callable, Tuple\n",
        "\n",
        "# Decorator to log execution time\n",
        "def log_time(func: Callable) -> Callable:\n",
        "    \"\"\"Logs the execution time of a function.\"\"\"\n",
        "    def wrapper(*args, **kwargs):\n",
        "        start = time.time()\n",
        "        result = func(*args, **kwargs)\n",
        "        end = time.time()\n",
        "        print(f\"[{func.__name__}] executed in {(end - start):.4f} seconds.\")\n",
        "        return result\n",
        "    return wrapper\n"
      ]
    },
    {
      "cell_type": "code",
      "execution_count": 3,
      "id": "e88c5938",
      "metadata": {
        "id": "e88c5938"
      },
      "outputs": [],
      "source": [
        "class DataConfig(param.Parameterized):\n",
        "    \"\"\"Generates synthetic data based on configurable parameters.\"\"\"\n",
        "    random_seed: int = param.Integer(default=111, bounds=(1, None))\n",
        "    num_samples: int = param.Integer(default=1000, bounds=(1, None))\n",
        "    age: Tuple[float, float] = param.NumericTuple(default=(18.0, 80.0), length=2)\n",
        "    height: Tuple[float, float] = param.NumericTuple(default=(165.0, 10.0), length=2)\n",
        "    weight: Tuple[float, float] = param.NumericTuple(default=(70.0, 15.0), length=2)\n",
        "    income: Tuple[float, float] = param.NumericTuple(default=(50000.0, 15000.0), length=2)\n",
        "    expenditure: Tuple[float, float] = param.NumericTuple(default=(0.6, 0.1), length=2)\n",
        "    gender: list = param.ListSelector(default=['Male', 'Female', 'Other'], objects=['Male', 'Female', 'Other'])\n",
        "    _data: pd.DataFrame = param.DataFrame(default=pd.DataFrame())\n",
        "\n",
        "    def __init__(self, **params):\n",
        "        super().__init__(**params)\n",
        "        self._generate()\n",
        "\n",
        "    @param.depends('random_seed', 'num_samples', 'age', 'height', 'weight', 'income', 'expenditure', watch=True)\n",
        "    def _generate(self, *events) -> None:\n",
        "        \"\"\"Generates synthetic data and updates the _data attribute.\"\"\"\n",
        "        print(\"New Data Generated!!!\")\n",
        "        np.random.seed(self.random_seed)\n",
        "        df = pd.DataFrame({\n",
        "            'age': np.random.randint(int(self.age[0]), int(self.age[1]), self.num_samples),\n",
        "            'height': np.random.normal(self.height[0], self.height[1], self.num_samples),\n",
        "            'weight': np.random.normal(self.weight[0], self.weight[1], self.num_samples),\n",
        "            'income': np.random.normal(self.income[0], self.income[1], self.num_samples),\n",
        "            'expenditure': np.random.normal(self.expenditure[0], self.expenditure[1], self.num_samples),\n",
        "            'gender': np.random.choice(self.gender, self.num_samples)\n",
        "        })\n",
        "        self._data = df\n",
        "\n",
        "    @log_time\n",
        "    def data(self) -> pd.DataFrame:\n",
        "        \"\"\"Returns the generated synthetic data.\"\"\"\n",
        "        return self._data\n",
        "\n",
        "    def __repr__(self):\n",
        "        return str(self.param)\n"
      ]
    },
    {
      "cell_type": "code",
      "execution_count": 4,
      "id": "d88bdef4",
      "metadata": {
        "colab": {
          "base_uri": "https://localhost:8080/"
        },
        "id": "d88bdef4",
        "outputId": "a8acdae5-5a29-4d09-817f-4b0ddd66bc08"
      },
      "outputs": [
        {
          "output_type": "stream",
          "name": "stdout",
          "text": [
            "New Data Generated!!!\n",
            "[data] executed in 0.0000 seconds.\n",
            "   age      height     weight        income  expenditure  gender\n",
            "0   38  160.514863  95.015974  63380.221858     0.457123   Other\n",
            "1   62  172.846982  76.546949  29966.525437     0.672770  Female\n",
            "2   38  152.489446  73.305399  58439.873495     0.526069   Other\n",
            "3   38  159.748684  71.015099  37665.684492     0.598392    Male\n",
            "4   40  176.340460  55.623279  72385.928096     0.634680  Female\n"
          ]
        }
      ],
      "source": [
        "config = DataConfig(num_samples=5)\n",
        "df = config.data()\n",
        "print(df.head())\n"
      ]
    },
    {
      "cell_type": "code",
      "execution_count": 5,
      "id": "621e7695",
      "metadata": {
        "id": "621e7695"
      },
      "outputs": [],
      "source": [
        "class AdvancedDataAnalyzer:\n",
        "    \"\"\"Performs statistical analysis, filtering, and visualization on a DataFrame.\"\"\"\n",
        "\n",
        "    def __init__(self, df: pd.DataFrame):\n",
        "        self.df = df\n",
        "\n",
        "    @log_time\n",
        "    def describe_data(self) -> pd.DataFrame:\n",
        "        \"\"\"Returns descriptive statistics of the dataset.\"\"\"\n",
        "        return self.df.describe(include='all')\n",
        "\n",
        "    @log_time\n",
        "    def filter_data(self, column: str, condition) -> pd.DataFrame:\n",
        "        \"\"\"Filters the data by column based on a value or callable.\"\"\"\n",
        "        if callable(condition):\n",
        "            return self.df[self.df[column].apply(condition)]\n",
        "        return self.df[self.df[column] == condition]\n",
        "\n",
        "    @log_time\n",
        "    def visualize_data(self, column: str, plot_type: str = \"hist\") -> None:\n",
        "        \"\"\"Visualizes the column using histogram, boxplot, or bar plot.\"\"\"\n",
        "        plt.figure(figsize=(8, 5))\n",
        "        if plot_type == \"hist\":\n",
        "            self.df[column].hist()\n",
        "            plt.title(f'Histogram of {column}')\n",
        "        elif plot_type == \"box\":\n",
        "            self.df.boxplot(column=column)\n",
        "            plt.title(f'Boxplot of {column}')\n",
        "        elif plot_type == \"bar\":\n",
        "            self.df[column].value_counts().plot.bar()\n",
        "            plt.title(f'Bar Plot of {column}')\n",
        "        else:\n",
        "            print(f\"Invalid plot type: {plot_type}\")\n",
        "            return\n",
        "        plt.xlabel(column)\n",
        "        plt.ylabel(\"Frequency\")\n",
        "        plt.grid(True)\n",
        "        plt.show()\n",
        "\n",
        "    @log_time\n",
        "    def save_data(self, path: str, filetype: str = \"csv\") -> None:\n",
        "        \"\"\"Saves the dataset as CSV or Parquet.\"\"\"\n",
        "        if filetype == \"csv\":\n",
        "            self.df.to_csv(path, index=False)\n",
        "        elif filetype == \"parquet\":\n",
        "            self.df.to_parquet(path, index=False)\n",
        "        else:\n",
        "            raise ValueError(\"Unsupported file type\")\n"
      ]
    },
    {
      "cell_type": "code",
      "execution_count": 7,
      "id": "ac485ccd",
      "metadata": {
        "colab": {
          "base_uri": "https://localhost:8080/",
          "height": 817
        },
        "id": "ac485ccd",
        "outputId": "a194d6de-6e7b-4a19-e19d-14adde74b27b"
      },
      "outputs": [
        {
          "output_type": "stream",
          "name": "stdout",
          "text": [
            "[describe_data] executed in 0.0156 seconds.\n",
            "              age      height     weight        income  expenditure gender\n",
            "count    5.000000    5.000000   5.000000      5.000000     5.000000      5\n",
            "unique        NaN         NaN        NaN           NaN          NaN      3\n",
            "top           NaN         NaN        NaN           NaN          NaN  Other\n",
            "freq          NaN         NaN        NaN           NaN          NaN      2\n",
            "mean    43.200000  164.388087  74.301340  52367.646675     0.577807    NaN\n",
            "std     10.545141    9.906005  14.096099  17866.436876     0.086484    NaN\n",
            "min     38.000000  152.489446  55.623279  29966.525437     0.457123    NaN\n",
            "25%     38.000000  159.748684  71.015099  37665.684492     0.526069    NaN\n",
            "50%     38.000000  160.514863  73.305399  58439.873495     0.598392    NaN\n",
            "75%     40.000000  172.846982  76.546949  63380.221858     0.634680    NaN\n",
            "max     62.000000  176.340460  95.015974  72385.928096     0.672770    NaN\n",
            "[filter_data] executed in 0.0007 seconds.\n",
            "   age      height     weight        income  expenditure  gender\n",
            "1   62  172.846982  76.546949  29966.525437      0.67277  Female\n",
            "4   40  176.340460  55.623279  72385.928096      0.63468  Female\n"
          ]
        },
        {
          "output_type": "display_data",
          "data": {
            "text/plain": [
              "<Figure size 800x500 with 1 Axes>"
            ],
            "image/png": "[encoded data removed]"
          },
          "metadata": {}
        },
        {
          "output_type": "stream",
          "name": "stdout",
          "text": [
            "[visualize_data] executed in 0.1785 seconds.\n",
            "[save_data] executed in 0.0098 seconds.\n"
          ]
        }
      ],
      "source": [
        "analyzer = AdvancedDataAnalyzer(df)\n",
        "\n",
        "# Describe\n",
        "print(analyzer.describe_data())\n",
        "\n",
        "# Filter\n",
        "filtered_df = analyzer.filter_data('gender', 'Female')\n",
        "print(filtered_df.head())\n",
        "\n",
        "# Visualize\n",
        "analyzer.visualize_data('age', plot_type='hist')\n",
        "\n",
        "# Save (optional, comment out if running in a read-only environment)\n",
        "analyzer.save_data(\"output.csv\", filetype=\"csv\")\n"
      ]
    }
  ],
  "metadata": {
    "colab": {
      "provenance": [],
      "include_colab_link": true
    },
    "kernelspec": {
      "display_name": "Python 3",
      "name": "python3"
    },
    "language_info": {
      "name": "python"
    }
  },
  "nbformat": 4,
  "nbformat_minor": 5
}