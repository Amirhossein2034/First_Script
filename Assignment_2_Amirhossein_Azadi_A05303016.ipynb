{
  "nbformat": 4,
  "nbformat_minor": 0,
  "metadata": {
    "colab": {
      "provenance": []
    },
    "kernelspec": {
      "name": "python3",
      "display_name": "Python 3"
    },
    "language_info": {
      "name": "python"
    }
  },
  "cells": [
    {
      "cell_type": "markdown",
      "source": [
        "List Operationes :"
      ],
      "metadata": {
        "id": "2nZX2EGdLa8y"
      }
    },
    {
      "cell_type": "code",
      "execution_count": 1,
      "metadata": {
        "colab": {
          "base_uri": "https://localhost:8080/"
        },
        "id": "sr2KC39aLO4D",
        "outputId": "8bda013e-65c7-4030-aed9-7d112353a696"
      },
      "outputs": [
        {
          "output_type": "stream",
          "name": "stdout",
          "text": [
            "initial list: ['apple', 'banana', 'orange', 'grape', 'kiwi']\n",
            "updated list: ['apple', 'banana', 'orange', 'grape', 'kiwi', 'mango']\n",
            "updated list: ['apple', 'orange', 'grape', 'kiwi', 'mango']\n",
            "sorted list: ['apple', 'grape', 'kiwi', 'mango', 'orange']\n",
            "third fruit: kiwi\n"
          ]
        }
      ],
      "source": [
        "# A list of five different fruits\n",
        "fruits = [\"apple\", \"banana\", \"orange\", \"grape\", \"kiwi\"]\n",
        "print(\"initial list:\", fruits)\n",
        "\n",
        "# New fruit add to the list\n",
        "fruits.append(\"mango\")\n",
        "print(\"updated list:\", fruits)\n",
        "\n",
        "# Remove the second fruit from the list\n",
        "fruits.pop(1)\n",
        "print(\"updated list:\", fruits)\n",
        "\n",
        "\n",
        "# Sort the list in alphabetical order\n",
        "fruits.sort()\n",
        "print(\"sorted list:\", fruits)\n",
        "\n",
        "# Access the third fruit in the list\n",
        "third_fruit = fruits[2]\n",
        "print(\"third fruit:\", third_fruit)\n"
      ]
    },
    {
      "cell_type": "markdown",
      "source": [
        "Tuple Operationes:"
      ],
      "metadata": {
        "id": "F7ss1x4JNAZP"
      }
    },
    {
      "cell_type": "code",
      "source": [
        "# Atuple with three colors\n",
        "colors = (\"red\", \"Yellow\", \"purple\")\n",
        "print(\"initial tuple:\", colors)\n",
        "# Access and print the last color using negetive index\n",
        "last_color = colors[-1]\n",
        "print(\"last color:\", last_color)\n"
      ],
      "metadata": {
        "colab": {
          "base_uri": "https://localhost:8080/"
        },
        "id": "ip8sBOd2NIrW",
        "outputId": "a237d482-6304-4411-e9e4-a70b70eebf91"
      },
      "execution_count": 4,
      "outputs": [
        {
          "output_type": "stream",
          "name": "stdout",
          "text": [
            "initial tuple: ('red', 'Yellow', 'purple')\n",
            "last color: purple\n"
          ]
        }
      ]
    },
    {
      "cell_type": "markdown",
      "source": [
        "Set Operationes:"
      ],
      "metadata": {
        "id": "-6vbp7GON7kc"
      }
    },
    {
      "cell_type": "code",
      "source": [
        "# A set name of three cities\n",
        "cities = {\"New York\", \"Houston\", \"Miami\"}\n",
        "print(\"initial set:\", cities)\n",
        "\n",
        "# Add a new city to the set\n",
        "cities.add(\"Washington.D.C\")\n",
        "print(\"updated set:\", cities)\n",
        "\n",
        "# Remove a city from the set\n",
        "cities.remove(\"Houston\")\n",
        "print(\"updated set:\", cities)\n",
        "\n",
        "# a union operation with another set of cities\n",
        "other_cities = {\"Austin\", \"San Marcos\", \"Dallas\"}\n",
        "union_cities = cities.union(other_cities)\n",
        "print(\"union set:\", union_cities)"
      ],
      "metadata": {
        "colab": {
          "base_uri": "https://localhost:8080/"
        },
        "id": "UYKbFRACN_D0",
        "outputId": "00efee17-3606-470a-9609-e029b63fdc90"
      },
      "execution_count": 5,
      "outputs": [
        {
          "output_type": "stream",
          "name": "stdout",
          "text": [
            "initial set: {'Houston', 'Miami', 'New York'}\n",
            "updated set: {'Houston', 'Washington.D.C', 'Miami', 'New York'}\n",
            "updated set: {'Washington.D.C', 'Miami', 'New York'}\n",
            "union set: {'Washington.D.C', 'Dallas', 'San Marcos', 'New York', 'Miami', 'Austin'}\n"
          ]
        }
      ]
    },
    {
      "cell_type": "markdown",
      "source": [
        "Dictionary Operations:"
      ],
      "metadata": {
        "id": "WtXIWt5LQEKB"
      }
    },
    {
      "cell_type": "code",
      "source": [
        "# A dictionary with three key-value pairs where the keys are student names and the values are their grades.\n",
        "students = {\"Jhon\": 90, \"Joe\": 85, \"Carlos\": 95}\n",
        "print(\"Students\", students)\n",
        "\n",
        "# the Grade of one student updated\n",
        "students[\"Joe\"] = 93\n",
        "print(\"Updated Grading (Joe):\", students)\n",
        "\n",
        "# a new student and it grade added to dictionary\n",
        "students[\"Sara\"] = 89\n",
        "print(\"Updated Adding and Grading (Sara):\", students)\n",
        "\n",
        "# one student removed from dictionary\n",
        "del students[\"Carlos\"]\n",
        "print(\"Updated Removing (Carlos):\", students)\n",
        "\n",
        "# Access the grade of a specific student using their name\n",
        "sara_grade = students[\"Sara\"]\n",
        "print(\"Grade of Sara:\", sara_grade)"
      ],
      "metadata": {
        "colab": {
          "base_uri": "https://localhost:8080/"
        },
        "id": "fCU-SBDmQHIR",
        "outputId": "2d7fc4ec-3c79-4318-bb37-c66ab0e6552d"
      },
      "execution_count": 15,
      "outputs": [
        {
          "output_type": "stream",
          "name": "stdout",
          "text": [
            "Students {'Jhon': 90, 'Joe': 85, 'Carlos': 95}\n",
            "Updated Grading (Joe): {'Jhon': 90, 'Joe': 93, 'Carlos': 95}\n",
            "Updated Adding and Grading (Sara): {'Jhon': 90, 'Joe': 93, 'Carlos': 95, 'Sara': 89}\n",
            "Updated Removing (Carlos): {'Jhon': 90, 'Joe': 93, 'Sara': 89}\n",
            "Grade of Sara: 89\n"
          ]
        }
      ]
    },
    {
      "cell_type": "markdown",
      "source": [
        "Assignment Compeleted."
      ],
      "metadata": {
        "id": "MSg4zj9gTwzo"
      }
    }
  ]
}