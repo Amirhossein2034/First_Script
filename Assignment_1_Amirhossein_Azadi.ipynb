{
  "nbformat": 4,
  "nbformat_minor": 0,
  "metadata": {
    "colab": {
      "provenance": []
    },
    "kernelspec": {
      "name": "python3",
      "display_name": "Python 3"
    },
    "language_info": {
      "name": "python"
    }
  },
  "cells": [
    {
      "cell_type": "code",
      "source": [
        "def Addition(a, b):\n",
        "    return a + b\n",
        "\n",
        "def Subtraction(a, b):\n",
        "    return a - b\n",
        "\n",
        "def Multiplication(a, b):\n",
        "    return a * b\n",
        "\n",
        "def Division(a, b):\n",
        "    if b == 0:\n",
        "        print(\"Division by zero is not possible\")\n",
        "        return None\n",
        "    else:\n",
        "        return a / b\n",
        "\n",
        "def Display_menu():\n",
        "    print(\"Mathematical Operation Menu:\")\n",
        "    print(\"1. Addition\")\n",
        "    print(\"2. Subtraction\")\n",
        "    print(\"3. Multiplication\")\n",
        "    print(\"4. Division\")\n",
        "    print(\"5. Exit\")\n",
        "\n",
        "def main():\n",
        "    while True:\n",
        "        Display_menu()\n",
        "        choice = int(input(\"Enter your choice (1-5): \"))\n",
        "\n",
        "        if choice == 5:\n",
        "            print(\"Exiting the program. Goodbye!\")\n",
        "            break\n",
        "\n",
        "        num1 = float(input(\"Enter the first number: \"))\n",
        "        num2 = float(input(\"Enter the second number: \"))\n",
        "\n",
        "        if choice == 1:\n",
        "            result = Addition(num1, num2)\n",
        "        elif choice == 2:\n",
        "            result = Subtraction(num1, num2)\n",
        "        elif choice == 3:\n",
        "            result = Multiplication(num1, num2)\n",
        "        elif choice == 4:\n",
        "            result = Division(num1, num2)\n",
        "        else:\n",
        "            print(\"Invalid choice. Please enter a number between 1 and 5.\")\n",
        "            continue\n",
        "\n",
        "        if result is not None:\n",
        "            print(f\"Result: {result}\")\n",
        "\n",
        "if __name__ == \"__main__\":\n",
        "    main()\n"
      ],
      "metadata": {
        "colab": {
          "base_uri": "https://localhost:8080/"
        },
        "id": "CuMNRxd5b3m-",
        "outputId": "f138ba80-97bb-4012-9935-5e94dd5e2d4e"
      },
      "execution_count": 1,
      "outputs": [
        {
          "output_type": "stream",
          "name": "stdout",
          "text": [
            "Mathematical Operation Menu:\n",
            "1. Addition\n",
            "2. Subtraction\n",
            "3. Multiplication\n",
            "4. Division\n",
            "5. Exit\n",
            "Enter your choice (1-5): 4\n",
            "Enter the first number: 4\n",
            "Enter the second number: 0\n",
            "Division by zero is not possible\n",
            "Mathematical Operation Menu:\n",
            "1. Addition\n",
            "2. Subtraction\n",
            "3. Multiplication\n",
            "4. Division\n",
            "5. Exit\n",
            "Enter your choice (1-5): 5\n",
            "Exiting the program. Goodbye!\n"
          ]
        }
      ]
    }
  ]
}